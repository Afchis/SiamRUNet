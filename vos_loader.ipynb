{
 "cells": [
  {
   "cell_type": "code",
   "execution_count": 1,
   "metadata": {},
   "outputs": [],
   "source": [
    "import json\n",
    "import os\n",
    "import numpy as np\n",
    "\n",
    "from PIL import Image, ImageDraw\n",
    "import scipy.ndimage.morphology as morph\n",
    "\n",
    "import torch\n",
    "import torch.nn.functional as F\n",
    "from torch.utils.data import Dataset, DataLoader\n",
    "import torchvision\n",
    "import torchvision.transforms as transforms\n",
    "\n",
    "data_path = \"/storage/ProtopopovI/_data_/ytb_vos/train/JPEGImages/\""
   ]
  },
  {
   "cell_type": "code",
   "execution_count": 2,
   "metadata": {},
   "outputs": [],
   "source": [
    "with open('/storage/ProtopopovI/_project_/SiamRUNet/test.json') as data_file:\n",
    "    data_json = json.load(data_file)"
   ]
  },
  {
   "cell_type": "code",
   "execution_count": 55,
   "metadata": {},
   "outputs": [],
   "source": [
    "class YtbVosData(Dataset):\n",
    "    def __init__(self):\n",
    "        super().__init__()\n",
    "        self.json = data_json\n",
    "        self.data_path = \"/storage/ProtopopovI/_data_/ytb_vos/train/JPEGImages/\"\n",
    "\n",
    "        self.trans = transforms.Compose([\n",
    "            transforms.Resize((256, 256), interpolation=0),\n",
    "            transforms.ToTensor()\n",
    "            ])\n",
    "        \n",
    "    def Rle_to_numpy(self, RLE, width, height):\n",
    "        NOT_RLE = []\n",
    "        try:\n",
    "            for i, data in enumerate(RLE):\n",
    "                if i % 2 == 0:\n",
    "                    x = 0\n",
    "                else:\n",
    "                    x = 1\n",
    "                for j in range(data):\n",
    "                    NOT_RLE.append(x)\n",
    "            np_array = np.asarray(NOT_RLE)\n",
    "            np_array = np_array.reshape(width, height).T#.tolist()\n",
    "            np_array = np.uint8(np_array*255)\n",
    "        except TypeError:\n",
    "            np_array = np.zeros((width, height))\n",
    "        return np_array\n",
    "    \n",
    "    def relative_bbox(self, center, bbox, width, height):\n",
    "        try:\n",
    "            re_center = [center[0]/width, center[1]/height]\n",
    "            re_bbox = [\n",
    "                bbox[0]/width,\n",
    "                bbox[1]/height,\n",
    "                bbox[2]/width,\n",
    "                bbox[3]/height,\n",
    "            ]\n",
    "        except TypeError:\n",
    "            re_center = [0, 0]\n",
    "            re_bbox = [\n",
    "                0,\n",
    "                0,\n",
    "                0,\n",
    "                0,\n",
    "            ]\n",
    "        return re_center, re_bbox\n",
    "        \n",
    "    def transform_score_label(self, depth2):\n",
    "        depth2 = depth2.reshape(1, 1, depth2.size(0), depth2.size(1))\n",
    "        max_value = depth2.max()\n",
    "        depth2 = (depth2 == max_value).float()\n",
    "        score_label = F.max_pool2d(depth2, kernel_size=(16, 16), padding=8, stride=16)\n",
    "        score_zero = (score_label == 0).float()\n",
    "        score_label = torch.stack([score_zero, score_label], dim=1).squeeze()\n",
    "        return score_label\n",
    "\n",
    "    def get_labels(self, object):\n",
    "        labels = torch.tensor([])\n",
    "        depths = torch.tensor([])\n",
    "        score_labels = torch.tensor([])\n",
    "        label1 = (object==0).float()\n",
    "        depth1 = torch.tensor(morph.distance_transform_edt(np.asarray(label1[0])))\n",
    "        label2 = (label1==0).float()\n",
    "        depth2 = torch.tensor(morph.distance_transform_edt(np.asarray(label2[0])))\n",
    "        depth = (depth1 + depth2).float().unsqueeze(0)\n",
    "        label = torch.stack([label1, label2], dim=1)\n",
    "        labels = torch.cat([labels, label], dim=0)\n",
    "        depths = torch.cat([depths, depth], dim=0)\n",
    "        score_label = self.transform_score_label(depth2).unsqueeze(0)\n",
    "        score_labels = torch.cat([score_labels, score_label], dim=0)\n",
    "        labels = labels.squeeze()\n",
    "        score_labels = score_labels.squeeze()\n",
    "        return labels, depths, score_labels\n",
    "\n",
    "    def Choise_feat(self, label, score_label, x=8):\n",
    "        score_label = score_label[0][1]\n",
    "        max_value = score_label.max()\n",
    "        pos = (score_label == max_value).nonzero()#.unsqueeze(0)\n",
    "\n",
    "        label = label.permute(0, 2, 3, 1)\n",
    "        i_tensors = torch.tensor([])\n",
    "        for i in range(label.size(0)):\n",
    "            i_tensor = label[i][x*pos[i][0]:x*pos[i][0]+x*16, x*pos[i][1]:x*pos[i][1]+x*16, :].unsqueeze(0)\n",
    "            i_tensors = torch.cat([i_tensors, i_tensor], dim=0)\n",
    "\n",
    "        label = i_tensors.permute(0, 3, 1, 2)\n",
    "        return label\n",
    "    \n",
    "    def __len__(self):\n",
    "        return len(self.json)\n",
    "    \n",
    "    def  __getitem__(self, idx):\n",
    "        search_name = self.json[idx]['file_name']\n",
    "        target_name = self.json[idx]['target_info']['target_name']\n",
    "        RLE_search = data_json[idx]['segmentation']\n",
    "        width = data_json[idx]['width']\n",
    "        height = data_json[idx]['height']\n",
    "        search = Image.open(self.data_path + search_name).convert('RGB')\n",
    "        seg_search = self.Rle_to_numpy(RLE_search, width, height)\n",
    "        mask_search = Image.fromarray(seg_search)\n",
    "        target = Image.open(self.data_path + target_name).convert('RGB')\n",
    "        \n",
    "        sr_center, sr_bbox = self.relative_bbox(self.json[idx]['center'], self.json[idx]['bbox'], width, height)\n",
    "        tr_center, _ = self.relative_bbox(self.json[idx]['target_info']['target_center'], \n",
    "                                          self.json[idx]['target_info']['target_bbox'], width, height)\n",
    "        \n",
    "        search = self.trans(search)\n",
    "        mask_search = self.trans(mask_search)\n",
    "        target = self.trans(target)\n",
    "        axis_x = round(tr_center[0]*256)\n",
    "        if axis_x < 64:\n",
    "            axis_x = 64\n",
    "        elif axis_x > 192:\n",
    "            axis_x = 192\n",
    "        axis_y = round(tr_center[1]*256)\n",
    "        if axis_y < 64:\n",
    "            axis_y = 64\n",
    "        elif axis_y > 192:\n",
    "            axis_y = 192\n",
    "        target = target[:, axis_y-64:axis_y+64, axis_x-64:axis_x+64]\n",
    "        \n",
    "        axis_x = round(sr_center[0]*256)\n",
    "        if axis_x < 64:\n",
    "            axis_x = 64\n",
    "        elif axis_x > 192:\n",
    "            axis_x = 192\n",
    "        axis_y = round(sr_center[1]*256)\n",
    "        if axis_y < 64:\n",
    "            axis_y = 64\n",
    "        elif axis_y > 192:\n",
    "            axis_y = 192\n",
    "        mask_search = mask_search[:, axis_y-64:axis_y+64, axis_x-64:axis_x+64]\n",
    "        \n",
    "        label, depth, score_label = self.get_labels(mask_search)\n",
    "        search, label, depth, score_label = search.unsqueeze(0), label.unsqueeze(0), depth.unsqueeze(0), score_label.unsqueeze(0)\n",
    "        label = self.Choise_feat(label, score_label)\n",
    "        depth = self.Choise_feat(depth, score_label)\n",
    "        \n",
    "        return search, mask_search, search_name, target, target_name"
   ]
  },
  {
   "cell_type": "code",
   "execution_count": 56,
   "metadata": {},
   "outputs": [
    {
     "data": {
      "text/plain": [
       "dict_keys(['person_id', 'video_id', 'file_name', 'width', 'height', 'center', 'bbox', 'segmentation', 'target_info'])"
      ]
     },
     "execution_count": 56,
     "metadata": {},
     "output_type": "execute_result"
    }
   ],
   "source": [
    "data_json[0].keys()"
   ]
  },
  {
   "cell_type": "code",
   "execution_count": 57,
   "metadata": {},
   "outputs": [
    {
     "data": {
      "text/plain": [
       "dict_keys(['target_name', 'target_bbox', 'target_center', 'target_segmentation'])"
      ]
     },
     "execution_count": 57,
     "metadata": {},
     "output_type": "execute_result"
    }
   ],
   "source": [
    "data_json[0]['target_info'].keys()"
   ]
  },
  {
   "cell_type": "code",
   "execution_count": 64,
   "metadata": {},
   "outputs": [],
   "source": [
    "to_pil = transforms.ToPILImage()\n",
    "data = YtbVosData()\n",
    "def show(idx):\n",
    "    search, mask, search_name, target, target_name = data[idx]\n",
    "    print('search: 0, mask: 1, target: 2')\n",
    "    inp = int(input())\n",
    "    if inp == 0:\n",
    "        out = search[0]\n",
    "    elif inp == 1:\n",
    "        out = mask[0]\n",
    "    elif inp == 2:\n",
    "        out = target\n",
    "    else:\n",
    "        raise Exception(\"Wrong input\")\n",
    "    print('search_name: ', search_name)\n",
    "    print('target_name: ', target_name)\n",
    "    out = to_pil(out)\n",
    "    return out"
   ]
  },
  {
   "cell_type": "code",
   "execution_count": 67,
   "metadata": {},
   "outputs": [
    {
     "name": "stdout",
     "output_type": "stream",
     "text": [
      "search: 0, mask: 1, target: 2\n",
      "2\n",
      "search_name:  9869a12362/00105.jpg\n",
      "target_name:  9869a12362/00000.jpg\n"
     ]
    },
    {
     "data": {
      "image/png": "[encoded data removed]",
      "text/plain": [
       "<PIL.Image.Image image mode=RGB size=128x128 at 0x7FFF692AFCD0>"
      ]
     },
     "execution_count": 67,
     "metadata": {},
     "output_type": "execute_result"
    }
   ],
   "source": [
    "show(12500)"
   ]
  },
  {
   "cell_type": "code",
   "execution_count": null,
   "metadata": {},
   "outputs": [],
   "source": [
    "search, mask, search_name, target, target_name = data[2]"
   ]
  },
  {
   "cell_type": "code",
   "execution_count": 70,
   "metadata": {},
   "outputs": [
    {
     "data": {
      "text/plain": [
       "tensor(0.2784)"
      ]
     },
     "execution_count": 70,
     "metadata": {},
     "output_type": "execute_result"
    }
   ],
   "source": [
    "target[]"
   ]
  },
  {
   "cell_type": "code",
   "execution_count": null,
   "metadata": {},
   "outputs": [],
   "source": [
    "seg = Rle_to_numpy(data_json[0]['segmentation'], data_json[0]['width'], data_json[0]['height'])"
   ]
  },
  {
   "cell_type": "code",
   "execution_count": null,
   "metadata": {},
   "outputs": [],
   "source": [
    "type(seg)\n",
    "seg.shape"
   ]
  },
  {
   "cell_type": "code",
   "execution_count": null,
   "metadata": {},
   "outputs": [],
   "source": [
    "im = Image.fromarray(seg)"
   ]
  },
  {
   "cell_type": "code",
   "execution_count": null,
   "metadata": {},
   "outputs": [],
   "source": [
    "im"
   ]
  },
  {
   "cell_type": "code",
   "execution_count": null,
   "metadata": {},
   "outputs": [],
   "source": [
    "Image.open(\"/storage/ProtopopovI/_data_/ytb_vos/train/JPEGImages/\"+'01c4cb5ffe/00045.jpg')"
   ]
  },
  {
   "cell_type": "code",
   "execution_count": null,
   "metadata": {},
   "outputs": [],
   "source": []
  }
 ],
 "metadata": {
  "kernelspec": {
   "display_name": "Python 3",
   "language": "python",
   "name": "python3"
  },
  "language_info": {
   "codemirror_mode": {
    "name": "ipython",
    "version": 3
   },
   "file_extension": ".py",
   "mimetype": "text/x-python",
   "name": "python",
   "nbconvert_exporter": "python",
   "pygments_lexer": "ipython3",
   "version": "3.7.4"
  }
 },
 "nbformat": 4,
 "nbformat_minor": 2
}
